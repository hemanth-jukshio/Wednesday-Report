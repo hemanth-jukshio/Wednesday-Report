{
 "cells": [
  {
   "cell_type": "code",
   "execution_count": 1,
   "id": "26e103a7",
   "metadata": {},
   "outputs": [],
   "source": [
    "import pdb"
   ]
  },
  {
   "cell_type": "code",
   "execution_count": 2,
   "id": "b41c0f29",
   "metadata": {},
   "outputs": [],
   "source": [
    "import sys"
   ]
  },
  {
   "cell_type": "code",
   "execution_count": 3,
   "id": "3488deb5",
   "metadata": {},
   "outputs": [],
   "source": [
    "sys.path.append(\"../\")"
   ]
  },
  {
   "cell_type": "code",
   "execution_count": 4,
   "id": "96463420",
   "metadata": {},
   "outputs": [],
   "source": [
    "from helper.helper import *"
   ]
  },
  {
   "cell_type": "code",
   "execution_count": 5,
   "id": "58b0ad68",
   "metadata": {},
   "outputs": [],
   "source": [
    "import pandas as pd\n",
    "import numpy as np\n",
    "import os"
   ]
  },
  {
   "cell_type": "markdown",
   "id": "43e03ee0",
   "metadata": {},
   "source": [
    "## Variables"
   ]
  },
  {
   "cell_type": "code",
   "execution_count": 51,
   "id": "4d3cb724",
   "metadata": {},
   "outputs": [],
   "source": [
    "THRESHOLD = 10\n",
    "month,start_date,end_date = ('june',11,17)\n",
    "MLOPS_data_file_name = 'MLOPS Liveness June 11 - 17'\n",
    "output_date = 'june11to17'\n",
    "EXPORT_BOOL = True"
   ]
  },
  {
   "cell_type": "markdown",
   "id": "5300211f",
   "metadata": {},
   "source": [
    "## Reading"
   ]
  },
  {
   "cell_type": "code",
   "execution_count": 7,
   "id": "6dfc552e",
   "metadata": {},
   "outputs": [
    {
     "name": "stdout",
     "output_type": "stream",
     "text": [
      "Data loaded for june 11\n",
      "Data loaded for june 12\n",
      "Data loaded for june 13\n",
      "Data loaded for june 14\n",
      "Data loaded for june 15\n",
      "Data loaded for june 16\n",
      "Data loaded for june 17\n"
     ]
    }
   ],
   "source": [
    "fraud = load_fraud_detection_data(month,start_date,end_date,fraud_column_names)"
   ]
  },
  {
   "cell_type": "code",
   "execution_count": 11,
   "id": "3207e827",
   "metadata": {},
   "outputs": [],
   "source": [
    "turing = load_mlops_data(MLOPS_data_file_name)"
   ]
  },
  {
   "cell_type": "code",
   "execution_count": 22,
   "id": "4f0d1899",
   "metadata": {},
   "outputs": [],
   "source": [
    "turing = turing.iloc[:,2:]"
   ]
  },
  {
   "cell_type": "code",
   "execution_count": 26,
   "id": "e33f17ce",
   "metadata": {},
   "outputs": [],
   "source": [
    "turing = turing.rename({'store_id':'storeid'},axis='columns')"
   ]
  },
  {
   "cell_type": "code",
   "execution_count": 27,
   "id": "2e550f36",
   "metadata": {},
   "outputs": [],
   "source": [
    "turing = turing.rename({'type':'capture_type'},axis='columns')"
   ]
  },
  {
   "cell_type": "markdown",
   "id": "35973b66",
   "metadata": {},
   "source": [
    "## Manipulation"
   ]
  },
  {
   "cell_type": "code",
   "execution_count": 29,
   "id": "64b7af35",
   "metadata": {},
   "outputs": [],
   "source": [
    "req_cols = ['xcall_id', 'response_code', 'orn','capture_type', 'is_live','manual_response', 'storeid']"
   ]
  },
  {
   "cell_type": "code",
   "execution_count": 30,
   "id": "2e54964c",
   "metadata": {},
   "outputs": [],
   "source": [
    "turing.loc[(turing[\"digitalfake\"]==True)|(turing['printfake']==True),'manual_response'] = 'fake'"
   ]
  },
  {
   "cell_type": "code",
   "execution_count": 31,
   "id": "96db3449",
   "metadata": {},
   "outputs": [],
   "source": [
    "turing_filtered = turing[turing['is_live']!='no']"
   ]
  },
  {
   "cell_type": "code",
   "execution_count": 32,
   "id": "6888da06",
   "metadata": {},
   "outputs": [],
   "source": [
    "df = pd.concat([fraud[req_cols],turing_filtered[req_cols]])"
   ]
  },
  {
   "cell_type": "markdown",
   "id": "ca997545",
   "metadata": {},
   "source": [
    "#### Get Journey status for the following orns"
   ]
  },
  {
   "cell_type": "code",
   "execution_count": 36,
   "id": "d9f119a5",
   "metadata": {},
   "outputs": [],
   "source": [
    "df['storeid'] = df['storeid'].apply(lambda x: clean_storeid(x))"
   ]
  },
  {
   "cell_type": "code",
   "execution_count": 34,
   "id": "d3ca4d89",
   "metadata": {},
   "outputs": [],
   "source": [
    "df = filter_testing_orn(df)"
   ]
  },
  {
   "cell_type": "code",
   "execution_count": 37,
   "id": "8ac51256",
   "metadata": {},
   "outputs": [],
   "source": [
    "new_df = df[df['manual_response']=='fake'].groupby('storeid').agg({'xcall_id': 'count', 'orn': ['nunique', 'unique']})"
   ]
  },
  {
   "cell_type": "code",
   "execution_count": 38,
   "id": "605de715",
   "metadata": {},
   "outputs": [],
   "source": [
    "new_df.columns = ['count_of_fakeAttemtpts_from_store', 'count_of_faked_orns', 'faked_orns']"
   ]
  },
  {
   "cell_type": "code",
   "execution_count": 39,
   "id": "d0dc34cf",
   "metadata": {},
   "outputs": [],
   "source": [
    "new_df.reset_index(inplace=True)"
   ]
  },
  {
   "cell_type": "code",
   "execution_count": 40,
   "id": "916c1b8f",
   "metadata": {},
   "outputs": [],
   "source": [
    "common_stores = new_df.sort_values('count_of_faked_orns',ascending=False)"
   ]
  },
  {
   "cell_type": "code",
   "execution_count": 41,
   "id": "25f2907c",
   "metadata": {},
   "outputs": [],
   "source": [
    "common_stores['storeid'] = common_stores['storeid'].apply(lambda x: clean_storeid(x))"
   ]
  },
  {
   "cell_type": "code",
   "execution_count": 42,
   "id": "0bbf6047",
   "metadata": {},
   "outputs": [],
   "source": [
    "common_stores = common_stores[common_stores['count_of_fakeAttemtpts_from_store']>=THRESHOLD]"
   ]
  },
  {
   "cell_type": "code",
   "execution_count": 43,
   "id": "9d75b4bc",
   "metadata": {},
   "outputs": [
    {
     "name": "stdout",
     "output_type": "stream",
     "text": [
      "Blacklisted stores loaded from: ../data/flagged stores/3500_blacklisted_stores.csv\n"
     ]
    }
   ],
   "source": [
    "flagged_stores = load_blacklisted_data()"
   ]
  },
  {
   "cell_type": "code",
   "execution_count": 44,
   "id": "b053bf16",
   "metadata": {},
   "outputs": [],
   "source": [
    "common_stores['is_store_blacklisted'] = False\n",
    "common_stores.loc[common_stores['storeid'].isin(flagged_stores['storeid']),'is_store_blacklisted'] = True"
   ]
  },
  {
   "cell_type": "code",
   "execution_count": 45,
   "id": "63288155",
   "metadata": {},
   "outputs": [
    {
     "data": {
      "text/plain": [
       "storeid                              0\n",
       "count_of_fakeAttemtpts_from_store    0\n",
       "count_of_faked_orns                  0\n",
       "faked_orns                           0\n",
       "is_store_blacklisted                 0\n",
       "dtype: int64"
      ]
     },
     "execution_count": 45,
     "metadata": {},
     "output_type": "execute_result"
    }
   ],
   "source": [
    "common_stores.isna().sum()"
   ]
  },
  {
   "cell_type": "markdown",
   "id": "87b185d2",
   "metadata": {},
   "source": [
    "##### Save common_stores"
   ]
  },
  {
   "cell_type": "code",
   "execution_count": 61,
   "id": "479be5d5",
   "metadata": {},
   "outputs": [],
   "source": [
    "save_df = common_stores[['storeid','is_store_blacklisted']]\n",
    "export(save_df,\"output/get_journey_status/\",output_date+\"_get_journey_status\",EXPORT_BOOL)"
   ]
  },
  {
   "cell_type": "markdown",
   "id": "74d480f7",
   "metadata": {},
   "source": [
    "##### Read Journey_status"
   ]
  },
  {
   "cell_type": "code",
   "execution_count": 302,
   "id": "b33005df",
   "metadata": {},
   "outputs": [
    {
     "data": {
      "text/plain": [
       "['list1.csv', 'list2.csv']"
      ]
     },
     "execution_count": 302,
     "metadata": {},
     "output_type": "execute_result"
    }
   ],
   "source": [
    "os.listdir(\"input/revised_orns_journey/list1.csv\")"
   ]
  },
  {
   "cell_type": "code",
   "execution_count": 335,
   "id": "929cb860",
   "metadata": {},
   "outputs": [
    {
     "name": "stdout",
     "output_type": "stream",
     "text": [
      "list1.csv\n",
      "2596\n",
      "list2.csv\n",
      "11266\n"
     ]
    }
   ],
   "source": [
    "journey_status = pd.DataFrame([])\n",
    "for sheet in os.listdir(\"input/revised_orns_journey/\"):\n",
    "    print(sheet)\n",
    "    if sheet!='.DS_Store':\n",
    "        sheet_df = pd.read_csv(\"input/revised_orns_journey/\"+sheet,header=None)\n",
    "        print(len(sheet_df))\n",
    "        sheet_df.columns = ['storeid', 'ORN','Journey']\n",
    "        journey_status = pd.concat([journey_status,sheet_df])\n",
    "\n",
    "    "
   ]
  },
  {
   "cell_type": "code",
   "execution_count": 336,
   "id": "518e3df7",
   "metadata": {},
   "outputs": [
    {
     "data": {
      "text/plain": [
       "0    False\n",
       "dtype: bool"
      ]
     },
     "execution_count": 336,
     "metadata": {},
     "output_type": "execute_result"
    }
   ],
   "source": [
    "pd.Series(\"NO0000HIDHIF\").isin(journey_status['ORN'])"
   ]
  },
  {
   "cell_type": "code",
   "execution_count": 337,
   "id": "de9664e4",
   "metadata": {},
   "outputs": [],
   "source": [
    "# missed_orns = pd.read_csv('input/missed_orns.csv',header=None)\n",
    "# missed_orns.columns = ['ORN','Journey']\n",
    "\n",
    "# merged_data = pd.merge(missed_orns,df,how='inner',left_on = \"ORN\", right_on = 'orn')[['ORN','storeid','Journey']]\n",
    "\n",
    "# merged_data = merged_data.drop_duplicates()\n",
    "\n",
    "# journey_status = pd.concat([journey_status,merged_data])"
   ]
  },
  {
   "cell_type": "code",
   "execution_count": 338,
   "id": "775d4bef",
   "metadata": {},
   "outputs": [],
   "source": [
    "# journey_status = pd.read_csv('journey status/journey_status_May25_June3.csv')"
   ]
  },
  {
   "cell_type": "code",
   "execution_count": 339,
   "id": "2c12401d",
   "metadata": {},
   "outputs": [],
   "source": [
    "# journey_status.columns = ['ORN', 'storeid', 'Journey']"
   ]
  },
  {
   "cell_type": "markdown",
   "id": "fef66ba0",
   "metadata": {},
   "source": [
    "#### Check if we got all orns journey status"
   ]
  },
  {
   "cell_type": "code",
   "execution_count": 340,
   "id": "293f6352",
   "metadata": {},
   "outputs": [],
   "source": [
    "journey_status_requested_orns = pd.Series([st for row in common_stores[\"faked_orns\"] for st in row])"
   ]
  },
  {
   "cell_type": "code",
   "execution_count": 341,
   "id": "6d820ab7",
   "metadata": {},
   "outputs": [],
   "source": [
    "journey_status_received_orns = journey_status['ORN']"
   ]
  },
  {
   "cell_type": "code",
   "execution_count": 342,
   "id": "5d8d1e45",
   "metadata": {},
   "outputs": [
    {
     "data": {
      "text/plain": [
       "13862"
      ]
     },
     "execution_count": 342,
     "metadata": {},
     "output_type": "execute_result"
    }
   ],
   "source": [
    "len(journey_status_received_orns)"
   ]
  },
  {
   "cell_type": "code",
   "execution_count": 345,
   "id": "49f72719",
   "metadata": {},
   "outputs": [
    {
     "data": {
      "text/plain": [
       "1954"
      ]
     },
     "execution_count": 345,
     "metadata": {},
     "output_type": "execute_result"
    }
   ],
   "source": [
    "len(journey_status_requested_orns)"
   ]
  },
  {
   "cell_type": "code",
   "execution_count": 343,
   "id": "d6150b4a",
   "metadata": {},
   "outputs": [
    {
     "data": {
      "text/plain": [
       "0       NO0000HIBSE0\n",
       "1       NO0000HIDHIF\n",
       "2       NO0000HIGD7X\n",
       "3       NO0000HICDA4\n",
       "4       NO0000HILAPM\n",
       "            ...     \n",
       "1949    NO0000HJIQIR\n",
       "1950    NO0000HJOW79\n",
       "1951    NO0000HILLXJ\n",
       "1952    NO0000HI9OHM\n",
       "1953    NO0000HJ1SPM\n",
       "Length: 1572, dtype: object"
      ]
     },
     "execution_count": 343,
     "metadata": {},
     "output_type": "execute_result"
    }
   ],
   "source": [
    "journey_status_requested_orns[np.logical_not(journey_status_requested_orns.isin(journey_status_received_orns))]"
   ]
  },
  {
   "cell_type": "code",
   "execution_count": 344,
   "id": "d3f8fe7c",
   "metadata": {},
   "outputs": [],
   "source": [
    "# pd.DataFrame(temp.to_list()).to_csv('missed_ORNs.csv')"
   ]
  },
  {
   "cell_type": "code",
   "execution_count": 222,
   "id": "8565176a",
   "metadata": {},
   "outputs": [],
   "source": [
    "missed_data = sum(np.logical_not(journey_status_requested_orns.isin(journey_status_received_orns)))"
   ]
  },
  {
   "cell_type": "code",
   "execution_count": 223,
   "id": "2ba889b2",
   "metadata": {},
   "outputs": [],
   "source": [
    "if missed_data !=0:\n",
    "    raise Exception(\"Some of the orns are missing\")"
   ]
  },
  {
   "cell_type": "code",
   "execution_count": 224,
   "id": "5f5124f1",
   "metadata": {},
   "outputs": [
    {
     "data": {
      "text/plain": [
       "0"
      ]
     },
     "execution_count": 224,
     "metadata": {},
     "output_type": "execute_result"
    }
   ],
   "source": [
    "missed_data"
   ]
  },
  {
   "cell_type": "markdown",
   "id": "7567b309",
   "metadata": {},
   "source": [
    "##### As, we have 0 False, it means we got the data for all the orns which we have sent"
   ]
  },
  {
   "cell_type": "markdown",
   "id": "e55c0cf0",
   "metadata": {},
   "source": [
    "## Report"
   ]
  },
  {
   "cell_type": "code",
   "execution_count": 225,
   "id": "11d8b2ba",
   "metadata": {},
   "outputs": [],
   "source": [
    "#Renaming journey values\n",
    "journey_status['journey'] = 'Incomplete'\n",
    "journey_status.loc[journey_status['Journey']=='Complete',\"journey\"]='Complete'"
   ]
  },
  {
   "cell_type": "code",
   "execution_count": 226,
   "id": "b5d190e3",
   "metadata": {},
   "outputs": [],
   "source": [
    "complete_incomplete_df = journey_status.groupby(['storeid','journey']).agg({'ORN':'unique'}).reset_index()\n",
    "complete_orns = complete_incomplete_df[complete_incomplete_df['journey']=='Complete']\n",
    "incomplete_orns = complete_incomplete_df[complete_incomplete_df['journey']=='Incomplete']\n",
    "\n",
    "# total_ORNs_per_store = journey_status.groupby('storeid').agg({'ORN':'unique'}).reset_index()\n",
    "# total_ORNs_per_store.columns = ['storeid', 'total_orns']\n",
    "\n",
    "def get_intersection(lst1, lst2):\n",
    "    return list(set(lst1) & set(lst2))\n",
    "\n",
    "def get_string_list(df,list_cols):\n",
    "    for col in list_cols:\n",
    "        df.loc[:,col] = df[col].apply(lambda x: str(list(x)))\n",
    "    return df\n",
    "\n",
    "\n",
    "def get_report(df):\n",
    "    storeid = df['storeid']\n",
    "    try:\n",
    "        complete_orns_list = complete_orns[complete_orns['storeid']==storeid]['ORN'].iloc[0]\n",
    "    except:\n",
    "        #IF THERE ARE NO COMPLETED ORNs FROM A GIVEN STORE\n",
    "        complete_orns_list = []\n",
    "    try:\n",
    "        incomplete_orns_list = incomplete_orns[incomplete_orns['storeid']==storeid]['ORN'].iloc[0]\n",
    "    except:\n",
    "        #IF THERE ARE NO INCOMPLETED ORNs FROM A GIVEN STORE\n",
    "        incomplete_orns_list = []\n",
    "        \n",
    "    df['list_complete_orn'] = complete_orns_list\n",
    "    df['list_incomplete_orn'] = incomplete_orns_list\n",
    "    df['count_completed'] = len(complete_orns_list)\n",
    "    df['count_incompleted']= len(incomplete_orns_list)\n",
    "    \n",
    "    df['list_fake_complete'] = get_intersection(complete_orns_list,df['faked_orns'])\n",
    "    df['list_fake_incomplete'] = get_intersection(incomplete_orns_list,df['faked_orns'])\n",
    "    \n",
    "    df['count_fake_complete'] = len(df['list_fake_complete']) \n",
    "    df['count_fake_incomplete'] = len(df['list_fake_incomplete'])\n",
    "    \n",
    "    completed_fake_not_detected_list = set(df['list_complete_orn']) - set(df['list_fake_complete']) #Gives real competed\n",
    "    df['list_completed_fake_not_detected'] = completed_fake_not_detected_list\n",
    "    df['count_completed_fake_not_detected'] = len(completed_fake_not_detected_list)\n",
    "\n",
    "    return df"
   ]
  },
  {
   "cell_type": "code",
   "execution_count": 227,
   "id": "03c0f39c",
   "metadata": {},
   "outputs": [],
   "source": [
    "report = common_stores.apply(lambda x: get_report(x),axis=1)\n",
    "list_cols = ['list_complete_orn', 'list_incomplete_orn','list_fake_complete', 'list_fake_incomplete','list_completed_fake_not_detected']\n",
    "report = get_string_list(report,list_cols)"
   ]
  },
  {
   "cell_type": "markdown",
   "id": "ba332ffb",
   "metadata": {},
   "source": [
    "## Phase 2"
   ]
  },
  {
   "cell_type": "markdown",
   "id": "fd6f4bd4",
   "metadata": {},
   "source": [
    "#### Add if store is present in blacklist or not"
   ]
  },
  {
   "cell_type": "code",
   "execution_count": 236,
   "id": "04eda971",
   "metadata": {},
   "outputs": [],
   "source": [
    "flagged_stores = pd.read_csv('../data/flagged stores/3500_blacklisted_stores.csv')"
   ]
  },
  {
   "cell_type": "code",
   "execution_count": 357,
   "id": "f5a73f4b",
   "metadata": {},
   "outputs": [],
   "source": [
    "flagged_stores_2 = pd.read_csv(\"../data/flagged stores/Reliance flagged stores - already blacklisted.csv\")"
   ]
  },
  {
   "cell_type": "code",
   "execution_count": 358,
   "id": "d0a2af05",
   "metadata": {},
   "outputs": [],
   "source": [
    "flagged_stores_2.columns = ['storeid']"
   ]
  },
  {
   "cell_type": "code",
   "execution_count": 359,
   "id": "675dbb01",
   "metadata": {},
   "outputs": [],
   "source": [
    "flagged_stores_3 = pd.read_csv(\"../data/flagged stores/Reliance flagged stores - to blacklist.csv\")"
   ]
  },
  {
   "cell_type": "code",
   "execution_count": 360,
   "id": "1a4c67e0",
   "metadata": {},
   "outputs": [],
   "source": [
    "flagged_stores_3.columns = ['storeid']"
   ]
  },
  {
   "cell_type": "code",
   "execution_count": 245,
   "id": "b5bd2698",
   "metadata": {},
   "outputs": [],
   "source": [
    "flagged_stores['storeid'] = flagged_stores['storeid'].apply(lambda x: clean_storeid(x))"
   ]
  },
  {
   "cell_type": "code",
   "execution_count": 361,
   "id": "39ec2048",
   "metadata": {},
   "outputs": [],
   "source": [
    "flagged_stores_2['storeid'] = flagged_stores_2['storeid'].apply(lambda x: clean_storeid(x))"
   ]
  },
  {
   "cell_type": "code",
   "execution_count": 362,
   "id": "2d3b7b2a",
   "metadata": {},
   "outputs": [],
   "source": [
    "flagged_stores_3['storeid'] = flagged_stores_3['storeid'].apply(lambda x: clean_storeid(x))"
   ]
  },
  {
   "cell_type": "code",
   "execution_count": 264,
   "id": "db5e7c3a",
   "metadata": {},
   "outputs": [],
   "source": [
    "report['Within 3500 Blacklisted stores'] = False\n",
    "report.loc[report['storeid'].isin(flagged_stores['storeid']),'Within 3500 Blacklisted stores'] = True"
   ]
  },
  {
   "cell_type": "code",
   "execution_count": 366,
   "id": "9f4175f7",
   "metadata": {},
   "outputs": [
    {
     "data": {
      "text/plain": [
       "2729"
      ]
     },
     "execution_count": 366,
     "metadata": {},
     "output_type": "execute_result"
    }
   ],
   "source": [
    "len(flagged_stores_3)"
   ]
  },
  {
   "cell_type": "code",
   "execution_count": 365,
   "id": "6531947e",
   "metadata": {},
   "outputs": [],
   "source": [
    "report['Within 1162 Blacklisted stores'] = False\n",
    "report.loc[report['storeid'].isin(flagged_stores_2['storeid']),'Within 1162 Blacklisted stores'] = True"
   ]
  },
  {
   "cell_type": "code",
   "execution_count": 367,
   "id": "51723055",
   "metadata": {},
   "outputs": [],
   "source": [
    "report['Within 2729 Blacklisted stores'] = False\n",
    "report.loc[report['storeid'].isin(flagged_stores_3['storeid']),'Within 2729 Blacklisted stores'] = True"
   ]
  },
  {
   "cell_type": "code",
   "execution_count": 265,
   "id": "d43811fb",
   "metadata": {},
   "outputs": [],
   "source": [
    "# report.to_csv('report_may25_june3.csv',index=False)"
   ]
  },
  {
   "cell_type": "markdown",
   "id": "b67cfd1e",
   "metadata": {},
   "source": [
    "## Phase 3"
   ]
  },
  {
   "cell_type": "markdown",
   "id": "c9da54a4",
   "metadata": {},
   "source": [
    "#### Report with only required columns"
   ]
  },
  {
   "cell_type": "code",
   "execution_count": 371,
   "id": "40fa0be5",
   "metadata": {},
   "outputs": [],
   "source": [
    "report_cols = ['storeid','Within 3500 Blacklisted stores','Within 2729 Blacklisted stores','Within 1162 Blacklisted stores',\"count_of_fakeAttemtpts_from_store\",'count_fake_incomplete','count_fake_complete','count_completed_fake_not_detected']\n",
    "          "
   ]
  },
  {
   "cell_type": "code",
   "execution_count": 372,
   "id": "cb9ff363",
   "metadata": {},
   "outputs": [],
   "source": [
    "final_report = report[report_cols]"
   ]
  },
  {
   "cell_type": "code",
   "execution_count": 275,
   "id": "9acb2437",
   "metadata": {},
   "outputs": [],
   "source": [
    "final_report.columns = ['storeid','Within 3500 Blacklisted stores','Fraudlent attempts','Stopped ORNs','Successful (Fraudulent) ORNs','Successful ORNs with proper data']"
   ]
  },
  {
   "cell_type": "code",
   "execution_count": 373,
   "id": "a89e15e2",
   "metadata": {},
   "outputs": [],
   "source": [
    "final_report.columns = ['storeid','Within 3500 Blacklisted stores','Within 2729 Blacklisted stores','Within 1162 Blacklisted stores','Fraudlent attempts','Stopped ORNs','Successful (Fraudulent) ORNs','Successful ORNs with proper data']"
   ]
  },
  {
   "cell_type": "code",
   "execution_count": 374,
   "id": "cf5db173",
   "metadata": {},
   "outputs": [
    {
     "data": {
      "text/plain": [
       "6967"
      ]
     },
     "execution_count": 374,
     "metadata": {},
     "output_type": "execute_result"
    }
   ],
   "source": [
    "sum(final_report['Successful ORNs with proper data'])"
   ]
  },
  {
   "cell_type": "code",
   "execution_count": 375,
   "id": "b48e7577",
   "metadata": {},
   "outputs": [],
   "source": [
    "final_report.to_csv('final_report_june4to10_2.csv',index=False)"
   ]
  },
  {
   "cell_type": "markdown",
   "id": "d429f906",
   "metadata": {},
   "source": [
    "## Phase 4"
   ]
  },
  {
   "cell_type": "markdown",
   "id": "3a84a69d",
   "metadata": {},
   "source": [
    "#### Get Individual lists of Fake Complete, Fake Incomplete, Fake Not Detected"
   ]
  },
  {
   "cell_type": "code",
   "execution_count": 278,
   "id": "8054f34c",
   "metadata": {},
   "outputs": [],
   "source": [
    "date = 'june4_june10'"
   ]
  },
  {
   "cell_type": "code",
   "execution_count": 279,
   "id": "cfff6fe0",
   "metadata": {},
   "outputs": [],
   "source": [
    "def get_list(df):\n",
    "    list_orns = [st for row in df for st in row]\n",
    "    return pd.DataFrame(list_orns)"
   ]
  },
  {
   "cell_type": "code",
   "execution_count": 280,
   "id": "c13bb58a",
   "metadata": {},
   "outputs": [],
   "source": [
    "def get_eval_list(df,list_cols):\n",
    "    for col in list_cols:\n",
    "        df[col] = df[col].apply(lambda x: eval(x))\n",
    "    return df"
   ]
  },
  {
   "cell_type": "code",
   "execution_count": 281,
   "id": "a8c08357",
   "metadata": {},
   "outputs": [],
   "source": [
    "report = get_eval_list(report,list_cols)"
   ]
  },
  {
   "cell_type": "code",
   "execution_count": 282,
   "id": "82a249c9",
   "metadata": {},
   "outputs": [],
   "source": [
    "fake_complete_orns = get_list(report['list_fake_complete'])"
   ]
  },
  {
   "cell_type": "code",
   "execution_count": 283,
   "id": "88ca48e9",
   "metadata": {},
   "outputs": [],
   "source": [
    "fake_incomplete_orns = get_list(report['list_fake_incomplete'])"
   ]
  },
  {
   "cell_type": "code",
   "execution_count": 284,
   "id": "b969c789",
   "metadata": {},
   "outputs": [],
   "source": [
    "# fake_not_detected = get_list(report['list_completed_fake_not_detected'])"
   ]
  },
  {
   "cell_type": "code",
   "execution_count": 288,
   "id": "f8ac0e9f",
   "metadata": {},
   "outputs": [],
   "source": [
    "fake_complete_orns.to_csv('fraud_successful_orns_' + date + '.csv',index=False)\n",
    "\n",
    "fake_incomplete_orns.to_csv('fraud_stopped_orns_' + date + '.csv',index=False)\n",
    "\n",
    "# fake_not_detected.to_csv('fake_not_detected_orns_' + date + '.csv')"
   ]
  },
  {
   "cell_type": "code",
   "execution_count": 105,
   "id": "45ba12af",
   "metadata": {},
   "outputs": [],
   "source": [
    "# may25-June3 Report\n",
    "# 1162 stores\n",
    "\n",
    "\n",
    "# friday - 204 stores"
   ]
  }
 ],
 "metadata": {
  "kernelspec": {
   "display_name": "Python 3",
   "language": "python",
   "name": "python3"
  },
  "language_info": {
   "codemirror_mode": {
    "name": "ipython",
    "version": 3
   },
   "file_extension": ".py",
   "mimetype": "text/x-python",
   "name": "python",
   "nbconvert_exporter": "python",
   "pygments_lexer": "ipython3",
   "version": "3.8.8"
  }
 },
 "nbformat": 4,
 "nbformat_minor": 5
}
