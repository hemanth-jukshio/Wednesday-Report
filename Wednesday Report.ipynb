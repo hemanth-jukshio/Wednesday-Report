{
 "cells": [
  {
   "cell_type": "code",
   "execution_count": 1,
   "id": "26e103a7",
   "metadata": {},
   "outputs": [],
   "source": [
    "import pdb"
   ]
  },
  {
   "cell_type": "code",
   "execution_count": 2,
   "id": "58b0ad68",
   "metadata": {},
   "outputs": [],
   "source": [
    "import pandas as pd\n",
    "import numpy as np\n",
    "import os"
   ]
  },
  {
   "cell_type": "markdown",
   "id": "43e03ee0",
   "metadata": {},
   "source": [
    "## Variables"
   ]
  },
  {
   "cell_type": "code",
   "execution_count": 3,
   "id": "4d3cb724",
   "metadata": {},
   "outputs": [],
   "source": [
    "THRESHOLD = 10"
   ]
  },
  {
   "cell_type": "code",
   "execution_count": 5,
   "id": "71a0e45a",
   "metadata": {},
   "outputs": [],
   "source": [
    "# 419-->\n",
    "\n",
    "# orns in fraud_detection"
   ]
  },
  {
   "cell_type": "code",
   "execution_count": 95,
   "id": "23fc8356",
   "metadata": {},
   "outputs": [],
   "source": [
    "remove = fake_not_detected[fake_not_detected[0].isin(fraud['orn'])]\n",
    "remove.columns = ['orn']"
   ]
  },
  {
   "cell_type": "code",
   "execution_count": 132,
   "id": "b7539302",
   "metadata": {},
   "outputs": [],
   "source": [
    "set1 = set(list(fake_not_detected[0]))"
   ]
  },
  {
   "cell_type": "code",
   "execution_count": 133,
   "id": "47c61012",
   "metadata": {},
   "outputs": [],
   "source": [
    "set2 = set(list(remove['orn']))"
   ]
  },
  {
   "cell_type": "code",
   "execution_count": 134,
   "id": "5e3eb0fa",
   "metadata": {},
   "outputs": [],
   "source": [
    "list1 = list(set1-set2)"
   ]
  },
  {
   "cell_type": "code",
   "execution_count": 135,
   "id": "d656eb30",
   "metadata": {},
   "outputs": [],
   "source": [
    "from random import sample"
   ]
  },
  {
   "cell_type": "code",
   "execution_count": 136,
   "id": "4182a83f",
   "metadata": {},
   "outputs": [],
   "source": [
    "orns_1500 = sample(list1,1500)"
   ]
  },
  {
   "cell_type": "code",
   "execution_count": 137,
   "id": "5f1d45fa",
   "metadata": {},
   "outputs": [],
   "source": [
    "orns_1500_df = pd.DataFrame(orns_1500)"
   ]
  },
  {
   "cell_type": "code",
   "execution_count": 138,
   "id": "59d6d0e5",
   "metadata": {},
   "outputs": [],
   "source": [
    "orns_1500_df.columns = ['orn']"
   ]
  },
  {
   "cell_type": "code",
   "execution_count": 139,
   "id": "cb0805eb",
   "metadata": {},
   "outputs": [],
   "source": [
    "orns_1500_df.to_csv('1500_orns.csv',index=False)"
   ]
  },
  {
   "cell_type": "code",
   "execution_count": 140,
   "id": "56472801",
   "metadata": {},
   "outputs": [
    {
     "data": {
      "text/plain": [
       "12246"
      ]
     },
     "execution_count": 140,
     "metadata": {},
     "output_type": "execute_result"
    }
   ],
   "source": [
    "len(fake_not_detected)"
   ]
  },
  {
   "cell_type": "code",
   "execution_count": 144,
   "id": "46e2af8b",
   "metadata": {},
   "outputs": [
    {
     "data": {
      "text/plain": [
       "0"
      ]
     },
     "execution_count": 144,
     "metadata": {},
     "output_type": "execute_result"
    }
   ],
   "source": [
    "sum(orns_1500_df['orn'].isin(fraud[\"orn\"]))"
   ]
  },
  {
   "cell_type": "code",
   "execution_count": 143,
   "id": "dae6baf3",
   "metadata": {},
   "outputs": [
    {
     "data": {
      "text/plain": [
       "0    False\n",
       "dtype: bool"
      ]
     },
     "execution_count": 143,
     "metadata": {},
     "output_type": "execute_result"
    }
   ],
   "source": [
    "pd.Series([\"NO0000HG8ZR3\"]).isin(fraud[\"orn\"])"
   ]
  },
  {
   "cell_type": "markdown",
   "id": "5300211f",
   "metadata": {},
   "source": [
    "## Reading"
   ]
  },
  {
   "cell_type": "code",
   "execution_count": 6,
   "id": "fad586e1",
   "metadata": {},
   "outputs": [
    {
     "name": "stdout",
     "output_type": "stream",
     "text": [
      "LOADED:  liveness_Fraud_may28.csv\n",
      "LOADED:  liveness_Fraud_may29.csv\n",
      "LOADED:  liveness_Fraud_jun3.csv\n",
      "LOADED:  liveness_Fraud_jun2.csv\n",
      "LOADED:  liveness_Fraud_jun1.csv\n",
      "LOADED:  liveness_Fraud_may30.csv\n",
      "LOADED:  liveness_Fraud_may31.csv\n",
      "LOADED:  liveness_Fraud_may25.csv\n",
      "LOADED:  liveness_Fraud_may27.csv\n",
      "LOADED:  liveness_Fraud_may26.csv\n"
     ]
    }
   ],
   "source": [
    "fraud = pd.DataFrame([])\n",
    "for sheet in os.listdir(\"../data\"):\n",
    "    if(sheet!='.DS_Store'):\n",
    "        temp_df = pd.read_csv(\"../data/\"+sheet)\n",
    "        fraud = pd.concat([fraud,temp_df])\n",
    "        print('LOADED: ',sheet)"
   ]
  },
  {
   "cell_type": "code",
   "execution_count": 7,
   "id": "672e0b87",
   "metadata": {},
   "outputs": [],
   "source": [
    "# fraud.to_csv('may25tojune3_liveness_fraud.csv',index=False)"
   ]
  },
  {
   "cell_type": "code",
   "execution_count": 8,
   "id": "f3bb5520",
   "metadata": {},
   "outputs": [],
   "source": [
    "# fraud = pd.DataFrame([])\n",
    "# for i in range(13,25):\n",
    "#     temp_df = pd.read_csv(const + str(i) + \".csv\")\n",
    "#     temp_df[\"date\"] = str(i)\n",
    "#     fraud = pd.concat([fraud,temp_df])"
   ]
  },
  {
   "cell_type": "code",
   "execution_count": 9,
   "id": "9146b2cd",
   "metadata": {},
   "outputs": [],
   "source": [
    "# turing = pd.read_csv('liveness_turingIssues_13_24may.csv')"
   ]
  },
  {
   "cell_type": "markdown",
   "id": "928c0c17",
   "metadata": {},
   "source": [
    "### NEW CHANGES"
   ]
  },
  {
   "cell_type": "code",
   "execution_count": 10,
   "id": "45b66d37",
   "metadata": {},
   "outputs": [
    {
     "name": "stderr",
     "output_type": "stream",
     "text": [
      "/Users/vasavilakshmi/opt/anaconda3/lib/python3.8/site-packages/IPython/core/interactiveshell.py:3165: DtypeWarning: Columns (8,9) have mixed types.Specify dtype option on import or set low_memory=False.\n",
      "  has_raised = await self.run_ast_nodes(code_ast.body, cell_name,\n"
     ]
    }
   ],
   "source": [
    "turing_df1 = pd.read_csv('turing/MLOPS Liveness May 21 -27.csv')"
   ]
  },
  {
   "cell_type": "code",
   "execution_count": 11,
   "id": "df0ba61b",
   "metadata": {},
   "outputs": [],
   "source": [
    "turing_df2 = pd.read_csv('turing/MLOPS Liveness May 28 - June 3.csv')"
   ]
  },
  {
   "cell_type": "code",
   "execution_count": 12,
   "id": "324f38df",
   "metadata": {},
   "outputs": [],
   "source": [
    "from datetime import datetime"
   ]
  },
  {
   "cell_type": "code",
   "execution_count": 13,
   "id": "72de5e6c",
   "metadata": {},
   "outputs": [],
   "source": [
    "x=turing_df1[\"created_at\"][0]"
   ]
  },
  {
   "cell_type": "code",
   "execution_count": 14,
   "id": "387a6643",
   "metadata": {},
   "outputs": [],
   "source": [
    "turing_df1['created_at'] = pd.to_datetime(turing_df1['created_at'], utc=True)"
   ]
  },
  {
   "cell_type": "code",
   "execution_count": 15,
   "id": "2d623dc7",
   "metadata": {},
   "outputs": [],
   "source": [
    "import datetime,pytz"
   ]
  },
  {
   "cell_type": "code",
   "execution_count": 16,
   "id": "5571f5d1",
   "metadata": {},
   "outputs": [],
   "source": [
    "def change_time_zone(df):\n",
    "    \n",
    "    df['created_at'] = df['created_at'].dt.tz_convert('Asia/Kolkata')\n",
    "    return df"
   ]
  },
  {
   "cell_type": "code",
   "execution_count": 17,
   "id": "1becc1f6",
   "metadata": {},
   "outputs": [],
   "source": [
    "turing_df1 = change_time_zone(turing_df1)"
   ]
  },
  {
   "cell_type": "code",
   "execution_count": 18,
   "id": "f0df4f67",
   "metadata": {},
   "outputs": [],
   "source": [
    "turing_df1 = turing_df1[turing_df1['created_at'].apply(lambda x: x.date().day>=25)]"
   ]
  },
  {
   "cell_type": "code",
   "execution_count": 19,
   "id": "b11d4e48",
   "metadata": {},
   "outputs": [],
   "source": [
    "# turing_df1.to_csv('changed_time.csv')"
   ]
  },
  {
   "cell_type": "markdown",
   "id": "35973b66",
   "metadata": {},
   "source": [
    "## Manipulation"
   ]
  },
  {
   "cell_type": "code",
   "execution_count": 20,
   "id": "23c43c08",
   "metadata": {},
   "outputs": [],
   "source": [
    "turing =pd.concat([turing_df1,turing_df2])"
   ]
  },
  {
   "cell_type": "code",
   "execution_count": 21,
   "id": "2e550f36",
   "metadata": {},
   "outputs": [],
   "source": [
    "turing = turing.rename({'type':'capture_type'},axis='columns')"
   ]
  },
  {
   "cell_type": "code",
   "execution_count": 22,
   "id": "64b7af35",
   "metadata": {},
   "outputs": [],
   "source": [
    "req_cols = ['xcall_id', 'response_code', 'orn','capture_type', 'is_live','manual_response', 'storeid']"
   ]
  },
  {
   "cell_type": "code",
   "execution_count": 23,
   "id": "2e54964c",
   "metadata": {},
   "outputs": [],
   "source": [
    "turing.loc[(turing[\"digitalfake\"]==True)|(turing['digitalfake']==True),'manual_response'] = 'fake'"
   ]
  },
  {
   "cell_type": "code",
   "execution_count": 24,
   "id": "a0776aa5",
   "metadata": {},
   "outputs": [],
   "source": [
    "# turing.loc[turing.fakeface==False,'manual_response'] = 'real'\n",
    "# turing.loc[turing.fakeface==True,'manual_response'] = 'fake'"
   ]
  },
  {
   "cell_type": "code",
   "execution_count": 25,
   "id": "96db3449",
   "metadata": {},
   "outputs": [],
   "source": [
    "turing2 = turing[turing['is_live']!='no']"
   ]
  },
  {
   "cell_type": "code",
   "execution_count": 26,
   "id": "6888da06",
   "metadata": {},
   "outputs": [],
   "source": [
    "df = pd.concat([fraud[req_cols],turing2[req_cols]])"
   ]
  },
  {
   "cell_type": "markdown",
   "id": "ca997545",
   "metadata": {},
   "source": [
    "#### Get Journey status for the following orns"
   ]
  },
  {
   "cell_type": "code",
   "execution_count": 27,
   "id": "2de4ae75",
   "metadata": {},
   "outputs": [],
   "source": [
    "def filter_testing_orn(df):\n",
    "    df['key'] = df['orn'].apply(lambda x: x[:2])\n",
    "    filter_df = df[(df['key']=='NO')|(df['key']=='CO')]\n",
    "    return filter_df"
   ]
  },
  {
   "cell_type": "code",
   "execution_count": 28,
   "id": "a8a19a9b",
   "metadata": {},
   "outputs": [],
   "source": [
    "#Removes extra 0 from storeids.\n",
    "#Returns as string \n",
    "def clean_storeid(storeid):\n",
    "    storeid = str(storeid)\n",
    "    if len(storeid)<10:\n",
    "        return storeid\n",
    "    else:\n",
    "        return storeid[1:]"
   ]
  },
  {
   "cell_type": "code",
   "execution_count": 29,
   "id": "d9f119a5",
   "metadata": {},
   "outputs": [],
   "source": [
    "df['storeid'] = df['storeid'].apply(lambda x: clean_storeid(x))"
   ]
  },
  {
   "cell_type": "code",
   "execution_count": 30,
   "id": "d3ca4d89",
   "metadata": {},
   "outputs": [],
   "source": [
    "df = filter_testing_orn(df)"
   ]
  },
  {
   "cell_type": "code",
   "execution_count": 31,
   "id": "5e19356c",
   "metadata": {},
   "outputs": [],
   "source": [
    "# fraud = filter_testing_orn(fraud)"
   ]
  },
  {
   "cell_type": "code",
   "execution_count": 32,
   "id": "202462d8",
   "metadata": {},
   "outputs": [],
   "source": [
    "# unique_store_id = df[df['manual_response']=='fake']['storeid'].unique()"
   ]
  },
  {
   "cell_type": "code",
   "execution_count": 33,
   "id": "15d643b0",
   "metadata": {},
   "outputs": [],
   "source": [
    "# output_df = pd.DataFrame(unique_store_id,columns=['store_id'])"
   ]
  },
  {
   "cell_type": "code",
   "execution_count": 34,
   "id": "8ac51256",
   "metadata": {},
   "outputs": [],
   "source": [
    "new_df = df[df['manual_response']=='fake'].groupby('storeid').agg({'manual_response': 'count', 'orn': ['nunique', 'unique']})"
   ]
  },
  {
   "cell_type": "code",
   "execution_count": 35,
   "id": "605de715",
   "metadata": {},
   "outputs": [],
   "source": [
    "new_df.columns = ['count_of_fakes', 'count_of_faked_orns', 'faked_orns']"
   ]
  },
  {
   "cell_type": "code",
   "execution_count": 36,
   "id": "d0dc34cf",
   "metadata": {},
   "outputs": [],
   "source": [
    "new_df.reset_index(inplace=True)"
   ]
  },
  {
   "cell_type": "code",
   "execution_count": 37,
   "id": "916c1b8f",
   "metadata": {},
   "outputs": [],
   "source": [
    "common_stores = new_df.sort_values('count_of_faked_orns',ascending=False)"
   ]
  },
  {
   "cell_type": "code",
   "execution_count": 38,
   "id": "13db51cf",
   "metadata": {},
   "outputs": [],
   "source": [
    "# new_df = common_stores.sort_values(by='count_of_fakes',ascending=False)"
   ]
  },
  {
   "cell_type": "code",
   "execution_count": 39,
   "id": "25f2907c",
   "metadata": {},
   "outputs": [],
   "source": [
    "common_stores['storeid'] = common_stores['storeid'].apply(lambda x: clean_storeid(x))"
   ]
  },
  {
   "cell_type": "code",
   "execution_count": 40,
   "id": "0bbf6047",
   "metadata": {},
   "outputs": [],
   "source": [
    "common_stores = common_stores[common_stores['count_of_fakes']>=THRESHOLD]"
   ]
  },
  {
   "cell_type": "code",
   "execution_count": 41,
   "id": "f4b7d831",
   "metadata": {},
   "outputs": [],
   "source": [
    "flagged_stores_1162 = pd.read_csv('flagged stores/Reliance flagged stores - already blacklisted.csv')\n",
    "flagged_stores_2729 = pd.read_csv('flagged stores/Reliance flagged stores - to blacklist.csv')\n",
    "flagged_stores_1162.columns = ['storeid']\n",
    "flagged_stores_2729.columns = ['storeid']"
   ]
  },
  {
   "cell_type": "code",
   "execution_count": 42,
   "id": "b053bf16",
   "metadata": {},
   "outputs": [],
   "source": [
    "common_stores['is_store_blacklisted (1162)'] = False\n",
    "common_stores.loc[common_stores['storeid'].isin(flagged_stores_1162['storeid']),'is_store_blacklisted (1162)'] = True"
   ]
  },
  {
   "cell_type": "code",
   "execution_count": 43,
   "id": "63288155",
   "metadata": {},
   "outputs": [
    {
     "data": {
      "text/plain": [
       "storeid                        0\n",
       "count_of_fakes                 0\n",
       "count_of_faked_orns            0\n",
       "faked_orns                     0\n",
       "is_store_blacklisted (1162)    0\n",
       "dtype: int64"
      ]
     },
     "execution_count": 43,
     "metadata": {},
     "output_type": "execute_result"
    }
   ],
   "source": [
    "common_stores.isna().sum()"
   ]
  },
  {
   "cell_type": "markdown",
   "id": "87b185d2",
   "metadata": {},
   "source": [
    "##### Save common_stores"
   ]
  },
  {
   "cell_type": "code",
   "execution_count": 44,
   "id": "81fdf369",
   "metadata": {
    "scrolled": true
   },
   "outputs": [],
   "source": [
    "common_stores['faked_orns'] = common_stores['faked_orns'].apply(lambda x: str(list(x)))\n",
    "# common_stores.to_csv('get_journey_status_May25ToJune3.csv',index=False)\n",
    "common_stores['faked_orns'] = common_stores['faked_orns'].apply(lambda x: eval(x))"
   ]
  },
  {
   "cell_type": "markdown",
   "id": "74d480f7",
   "metadata": {},
   "source": [
    "##### Read Journey_status"
   ]
  },
  {
   "cell_type": "code",
   "execution_count": 45,
   "id": "775d4bef",
   "metadata": {},
   "outputs": [],
   "source": [
    "journey_status = pd.read_csv('journey status/journey_status_May25_June3.csv')"
   ]
  },
  {
   "cell_type": "code",
   "execution_count": 46,
   "id": "2c12401d",
   "metadata": {},
   "outputs": [],
   "source": [
    "journey_status.columns = ['ORN', 'storeid', 'Journey']"
   ]
  },
  {
   "cell_type": "markdown",
   "id": "fef66ba0",
   "metadata": {},
   "source": [
    "#### Check if we got all orns journey status"
   ]
  },
  {
   "cell_type": "code",
   "execution_count": 48,
   "id": "6518ce98",
   "metadata": {},
   "outputs": [],
   "source": [
    "data = {'ORN':['NO0000HFGSL3', 'NO0000HFHC2V', 'NO0000HHR1C0'],\n",
    "        'storeid':[\"660574841\", \"660574841\", \"660574841\"],\n",
    "       'Journey':[\"Complete\",\"Complete\",\"Complete\"]}"
   ]
  },
  {
   "cell_type": "code",
   "execution_count": 49,
   "id": "e9088baf",
   "metadata": {},
   "outputs": [],
   "source": [
    "journey_status = journey_status.append(pd.DataFrame(data)).reset_index().drop('index',axis=1)"
   ]
  },
  {
   "cell_type": "code",
   "execution_count": 50,
   "id": "293f6352",
   "metadata": {},
   "outputs": [],
   "source": [
    "journey_status_requested_orns = pd.Series([st for row in common_stores[\"faked_orns\"] for st in row])"
   ]
  },
  {
   "cell_type": "code",
   "execution_count": 51,
   "id": "6d820ab7",
   "metadata": {},
   "outputs": [],
   "source": [
    "journey_status_received_orns = journey_status['ORN']"
   ]
  },
  {
   "cell_type": "code",
   "execution_count": 52,
   "id": "d6150b4a",
   "metadata": {},
   "outputs": [
    {
     "data": {
      "text/plain": [
       "Series([], dtype: object)"
      ]
     },
     "execution_count": 52,
     "metadata": {},
     "output_type": "execute_result"
    }
   ],
   "source": [
    "journey_status_requested_orns[np.logical_not(journey_status_requested_orns.isin(journey_status_received_orns))]"
   ]
  },
  {
   "cell_type": "code",
   "execution_count": 53,
   "id": "8565176a",
   "metadata": {},
   "outputs": [],
   "source": [
    "missed_data = sum(np.logical_not(journey_status_requested_orns.isin(journey_status_received_orns)))"
   ]
  },
  {
   "cell_type": "code",
   "execution_count": 54,
   "id": "2ba889b2",
   "metadata": {},
   "outputs": [],
   "source": [
    "if missed_data !=0:\n",
    "    raise Exception(\"Some of the orns are missing\")"
   ]
  },
  {
   "cell_type": "code",
   "execution_count": 55,
   "id": "5f5124f1",
   "metadata": {},
   "outputs": [
    {
     "data": {
      "text/plain": [
       "0"
      ]
     },
     "execution_count": 55,
     "metadata": {},
     "output_type": "execute_result"
    }
   ],
   "source": [
    "missed_data"
   ]
  },
  {
   "cell_type": "markdown",
   "id": "7567b309",
   "metadata": {},
   "source": [
    "##### As, we have 0 False, it means we got the data for all the orns which we have sent"
   ]
  },
  {
   "cell_type": "markdown",
   "id": "e55c0cf0",
   "metadata": {},
   "source": [
    "## Report"
   ]
  },
  {
   "cell_type": "code",
   "execution_count": 56,
   "id": "11d8b2ba",
   "metadata": {},
   "outputs": [],
   "source": [
    "#Renaming journey values\n",
    "journey_status['journey'] = 'Incomplete'\n",
    "journey_status.loc[journey_status['Journey']=='Complete',\"journey\"]='Complete'"
   ]
  },
  {
   "cell_type": "code",
   "execution_count": 57,
   "id": "b5d190e3",
   "metadata": {},
   "outputs": [],
   "source": [
    "complete_incomplete_df = journey_status.groupby(['storeid','journey']).agg({'ORN':'unique'}).reset_index()\n",
    "complete_orns = complete_incomplete_df[complete_incomplete_df['journey']=='Complete']\n",
    "incomplete_orns = complete_incomplete_df[complete_incomplete_df['journey']=='Incomplete']\n",
    "\n",
    "total_ORNs_per_store = journey_status.groupby('storeid').agg({'ORN':'unique'}).reset_index()\n",
    "total_ORNs_per_store.columns = ['storeid', 'total_orns']\n",
    "\n",
    "def get_intersection(lst1, lst2):\n",
    "    return list(set(lst1) & set(lst2))\n",
    "\n",
    "def get_string_list(df,list_cols):\n",
    "    for col in list_cols:\n",
    "        df.loc[:,col] = df[col].apply(lambda x: str(list(x)))\n",
    "    return df\n",
    "\n",
    "\n",
    "def get_report(df):\n",
    "    storeid = df['storeid']\n",
    "    try:\n",
    "        complete_orns_list = complete_orns[complete_orns['storeid']==storeid]['ORN'].iloc[0]\n",
    "    except:\n",
    "        #IF THERE ARE NO COMPLETED ORNs FROM A GIVEN STORE\n",
    "        complete_orns_list = []\n",
    "    try:\n",
    "        incomplete_orns_list = incomplete_orns[incomplete_orns['storeid']==storeid]['ORN'].iloc[0]\n",
    "    except:\n",
    "        #IF THERE ARE NO INCOMPLETED ORNs FROM A GIVEN STORE\n",
    "        incomplete_orns_list = []\n",
    "        \n",
    "    df['list_complete_orn'] = complete_orns_list\n",
    "    df['list_incomplete_orn'] = incomplete_orns_list\n",
    "    df['count_completed'] = len(complete_orns_list)\n",
    "    df['count_incompleted']= len(incomplete_orns_list) \n",
    "    \n",
    "    df['list_fake_complete'] = get_intersection(complete_orns_list,df['faked_orns'])\n",
    "    df['list_fake_incomplete'] = get_intersection(incomplete_orns_list,df['faked_orns'])\n",
    "    \n",
    "    df['count_fake_complete'] = len(df['list_fake_complete']) \n",
    "    df['count_fake_incomplete'] = len(df['list_fake_incomplete'])\n",
    "    \n",
    "    completed_fake_not_detected_list = set(df['list_complete_orn']) - set(df['list_fake_complete']) #Gives real competed\n",
    "    df['list_completed_fake_not_detected'] = completed_fake_not_detected_list\n",
    "    df['count_completed_fake_not_detected'] = len(completed_fake_not_detected_list)\n",
    "\n",
    "    return df"
   ]
  },
  {
   "cell_type": "code",
   "execution_count": 58,
   "id": "03c0f39c",
   "metadata": {},
   "outputs": [],
   "source": [
    "report = common_stores.apply(lambda x: get_report(x),axis=1)\n",
    "list_cols = ['list_complete_orn', 'list_incomplete_orn','list_fake_complete', 'list_fake_incomplete','list_completed_fake_not_detected']\n",
    "report = get_string_list(report,list_cols)"
   ]
  },
  {
   "cell_type": "markdown",
   "id": "ba332ffb",
   "metadata": {},
   "source": [
    "## Phase 2"
   ]
  },
  {
   "cell_type": "markdown",
   "id": "fd6f4bd4",
   "metadata": {},
   "source": [
    "#### Add if store is present in blacklist or not"
   ]
  },
  {
   "cell_type": "code",
   "execution_count": 59,
   "id": "27a9e8e4",
   "metadata": {},
   "outputs": [],
   "source": [
    "flagged_stores_1162 = pd.read_csv('flagged stores/Reliance flagged stores - already blacklisted.csv')\n",
    "flagged_stores_2729 = pd.read_csv('flagged stores/Reliance flagged stores - to blacklist.csv')\n",
    "flagged_stores_1162.columns = ['storeid']\n",
    "flagged_stores_2729.columns = ['storeid']"
   ]
  },
  {
   "cell_type": "code",
   "execution_count": 60,
   "id": "51800af0",
   "metadata": {},
   "outputs": [],
   "source": [
    "flagged_stores = pd.concat([flagged_stores_2729,flagged_stores_1162])"
   ]
  },
  {
   "cell_type": "code",
   "execution_count": 61,
   "id": "985b1f6d",
   "metadata": {},
   "outputs": [
    {
     "data": {
      "text/plain": [
       "storeid    3500\n",
       "dtype: int64"
      ]
     },
     "execution_count": 61,
     "metadata": {},
     "output_type": "execute_result"
    }
   ],
   "source": [
    "flagged_stores.nunique()"
   ]
  },
  {
   "cell_type": "code",
   "execution_count": 62,
   "id": "db5e7c3a",
   "metadata": {},
   "outputs": [],
   "source": [
    "report['Within New Blacklist 1162 Stores'] = False\n",
    "report.loc[report['storeid'].isin(flagged_stores_1162['storeid']),'Within New Blacklist 1162 Stores'] = True"
   ]
  },
  {
   "cell_type": "code",
   "execution_count": 63,
   "id": "faa2751f",
   "metadata": {},
   "outputs": [],
   "source": [
    "report['Within New Blacklist 2729 Stores'] = False\n",
    "report.loc[report['storeid'].isin(flagged_stores_2729['storeid']),'Within New Blacklist 2729 Stores'] = True"
   ]
  },
  {
   "cell_type": "code",
   "execution_count": 64,
   "id": "082367ec",
   "metadata": {},
   "outputs": [],
   "source": [
    "report = report.drop(['is_store_blacklisted (1162)'],axis=1)"
   ]
  },
  {
   "cell_type": "code",
   "execution_count": 65,
   "id": "d43811fb",
   "metadata": {},
   "outputs": [],
   "source": [
    "# report.to_csv('report_may25_june3.csv',index=False)"
   ]
  },
  {
   "cell_type": "markdown",
   "id": "b67cfd1e",
   "metadata": {},
   "source": [
    "## Phase 3"
   ]
  },
  {
   "cell_type": "markdown",
   "id": "c9da54a4",
   "metadata": {},
   "source": [
    "#### Report with only required columns"
   ]
  },
  {
   "cell_type": "code",
   "execution_count": 66,
   "id": "40fa0be5",
   "metadata": {},
   "outputs": [],
   "source": [
    "report_cols = ['storeid','Within New Blacklist 1162 Stores', 'Within New Blacklist 2729 Stores',\"count_of_fakes\",'count_fake_incomplete','count_fake_complete','count_completed_fake_not_detected']\n",
    "          "
   ]
  },
  {
   "cell_type": "code",
   "execution_count": 67,
   "id": "cb9ff363",
   "metadata": {},
   "outputs": [],
   "source": [
    "final_report = report[report_cols]"
   ]
  },
  {
   "cell_type": "code",
   "execution_count": 68,
   "id": "9acb2437",
   "metadata": {},
   "outputs": [],
   "source": [
    "final_report.columns = ['storeid','Within New Blacklist 1162 Stores','Within New Blacklist 2729 Stores','Fraudlent attempts','Stopped ORNs','Successful (Fraudulent) ORNs','Successful ORNs with proper data']"
   ]
  },
  {
   "cell_type": "code",
   "execution_count": 69,
   "id": "cf5db173",
   "metadata": {},
   "outputs": [
    {
     "data": {
      "text/plain": [
       "12246"
      ]
     },
     "execution_count": 69,
     "metadata": {},
     "output_type": "execute_result"
    }
   ],
   "source": [
    "sum(final_report['Successful ORNs with proper data'])"
   ]
  },
  {
   "cell_type": "code",
   "execution_count": 70,
   "id": "b48e7577",
   "metadata": {},
   "outputs": [],
   "source": [
    "# final_report.to_csv('final_report_may25_june3.csv',index=False)`"
   ]
  },
  {
   "cell_type": "markdown",
   "id": "d429f906",
   "metadata": {},
   "source": [
    "## Phase 4"
   ]
  },
  {
   "cell_type": "markdown",
   "id": "3a84a69d",
   "metadata": {},
   "source": [
    "#### Get Individual lists of Fake Complete, Fake Incomplete, Fake Not Detected"
   ]
  },
  {
   "cell_type": "code",
   "execution_count": 71,
   "id": "8054f34c",
   "metadata": {},
   "outputs": [],
   "source": [
    "date = 'may25_june3'"
   ]
  },
  {
   "cell_type": "code",
   "execution_count": 72,
   "id": "cfff6fe0",
   "metadata": {},
   "outputs": [],
   "source": [
    "def get_list(df):\n",
    "    list_orns = [st for row in df for st in row]\n",
    "    return pd.DataFrame(list_orns)"
   ]
  },
  {
   "cell_type": "code",
   "execution_count": 73,
   "id": "c13bb58a",
   "metadata": {},
   "outputs": [],
   "source": [
    "def get_eval_list(df,list_cols):\n",
    "    for col in list_cols:\n",
    "        df[col] = df[col].apply(lambda x: eval(x))\n",
    "    return df"
   ]
  },
  {
   "cell_type": "code",
   "execution_count": 74,
   "id": "a8c08357",
   "metadata": {},
   "outputs": [],
   "source": [
    "report = get_eval_list(report,list_cols)"
   ]
  },
  {
   "cell_type": "code",
   "execution_count": 75,
   "id": "82a249c9",
   "metadata": {},
   "outputs": [],
   "source": [
    "fake_complete_orns = get_list(report['list_fake_complete'])"
   ]
  },
  {
   "cell_type": "code",
   "execution_count": 76,
   "id": "88ca48e9",
   "metadata": {},
   "outputs": [],
   "source": [
    "fake_incomplete_orns = get_list(report['list_fake_incomplete'])"
   ]
  },
  {
   "cell_type": "code",
   "execution_count": 77,
   "id": "b969c789",
   "metadata": {},
   "outputs": [],
   "source": [
    "fake_not_detected = get_list(report['list_completed_fake_not_detected'])"
   ]
  },
  {
   "cell_type": "code",
   "execution_count": 78,
   "id": "f8ac0e9f",
   "metadata": {},
   "outputs": [],
   "source": [
    "# fake_complete_orns.to_csv('fake_complete_orns_' + date + '.csv')\n",
    "\n",
    "# fake_incomplete_orns.to_csv('fake_incomplete_orns_' + date + '.csv')\n",
    "\n",
    "# fake_not_detected.to_csv('fake_not_detected_orns_' + date + '.csv')"
   ]
  },
  {
   "cell_type": "code",
   "execution_count": 105,
   "id": "45ba12af",
   "metadata": {},
   "outputs": [],
   "source": [
    "# may25-June3 Report\n",
    "# 1162 stores\n",
    "\n",
    "\n",
    "# friday - 204 stores"
   ]
  }
 ],
 "metadata": {
  "kernelspec": {
   "display_name": "Python 3",
   "language": "python",
   "name": "python3"
  },
  "language_info": {
   "codemirror_mode": {
    "name": "ipython",
    "version": 3
   },
   "file_extension": ".py",
   "mimetype": "text/x-python",
   "name": "python",
   "nbconvert_exporter": "python",
   "pygments_lexer": "ipython3",
   "version": "3.8.8"
  }
 },
 "nbformat": 4,
 "nbformat_minor": 5
}
